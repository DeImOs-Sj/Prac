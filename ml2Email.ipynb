{
 "cells": [
  {
   "cell_type": "code",
   "execution_count": 11,
   "id": "a542f181-1210-4086-8eb0-95f4458bbe5d",
   "metadata": {},
   "outputs": [
    {
     "name": "stdout",
     "output_type": "stream",
     "text": [
      "Email No.     object\n",
      "the            int64\n",
      "to             int64\n",
      "ect            int64\n",
      "and            int64\n",
      "               ...  \n",
      "military       int64\n",
      "allowing       int64\n",
      "ff             int64\n",
      "dry            int64\n",
      "Prediction     int64\n",
      "Length: 3002, dtype: object\n"
     ]
    }
   ],
   "source": [
    "import pandas as pd\n",
    "from sklearn.model_selection import train_test_split\n",
    "from sklearn.neighbors import KNeighborsClassifier\n",
    "from sklearn.svm import SVC\n",
    "from sklearn.metrics import classification_report, accuracy_score\n",
    "\n",
    "# Load your dataset\n",
    "data = pd.read_csv('emails.csv')\n",
    "\n",
    "# Inspect the data types and check for unexpected types\n",
    "print(data.dtypes)\n"
   ]
  },
  {
   "cell_type": "code",
   "execution_count": 12,
   "id": "84656bb9-6b41-4499-9663-6d4421ce982f",
   "metadata": {},
   "outputs": [
    {
     "name": "stdout",
     "output_type": "stream",
     "text": [
      "NaN values in X: 0\n",
      "NaN values in y: 0\n"
     ]
    }
   ],
   "source": [
    "\n",
    "# Drop non-numeric columns, keeping only numeric ones for X\n",
    "X = data.drop(columns=['Prediction'])  # All columns except 'Prediction'\n",
    "X = X.select_dtypes(include=['int64'])  # Keep only integer and float columns\n",
    "\n",
    "# Ensure y is numeric (0 and 1)\n",
    "y = data['Prediction'].astype(int)  # Convert to integer type\n",
    "\n",
    "# Check for NaN values in X and y\n",
    "print(\"NaN values in X:\", X.isna().sum().sum())\n",
    "print(\"NaN values in y:\", y.isna().sum())\n"
   ]
  },
  {
   "cell_type": "code",
   "execution_count": 15,
   "id": "e9acd560-f9a0-456e-a929-acd59b6b76b7",
   "metadata": {},
   "outputs": [],
   "source": [
    "\n",
    "# Drop rows with NaN values in features\n",
    "X = X.dropna()\n",
    "y = y[X.index]  # Ensure y aligns with the features after dropping NaN values\n",
    "\n",
    "# Split the dataset into training and testing sets\n",
    "X_train, X_test, y_train, y_test = train_test_split(X.to_numpy(), y.to_numpy(), test_size=0.2, random_state=42)\n",
    "\n",
    "# K-Nearest Neighbors Classification\n",
    "knn = KNeighborsClassifier()\n",
    "knn.fit(X_train, y_train)\n",
    "y_pred_knn = knn.predict(X_test)\n"
   ]
  },
  {
   "cell_type": "code",
   "execution_count": 17,
   "id": "bfe0933a-83f2-4dc1-863a-3718e8126097",
   "metadata": {},
   "outputs": [
    {
     "name": "stdout",
     "output_type": "stream",
     "text": [
      "KNN Classification Report:\n",
      "              precision    recall  f1-score   support\n",
      "\n",
      "           0       0.93      0.87      0.90       739\n",
      "           1       0.73      0.84      0.78       296\n",
      "\n",
      "    accuracy                           0.86      1035\n",
      "   macro avg       0.83      0.86      0.84      1035\n",
      "weighted avg       0.87      0.86      0.87      1035\n",
      "\n",
      "KNN Accuracy: 0.8628019323671497\n",
      "SVM Classification Report:\n",
      "              precision    recall  f1-score   support\n",
      "\n",
      "           0       0.80      0.98      0.88       739\n",
      "           1       0.91      0.40      0.56       296\n",
      "\n",
      "    accuracy                           0.82      1035\n",
      "   macro avg       0.86      0.69      0.72      1035\n",
      "weighted avg       0.83      0.82      0.79      1035\n",
      "\n",
      "SVM Accuracy: 0.8173913043478261\n"
     ]
    }
   ],
   "source": [
    "\n",
    "# Support Vector Machine Classification\n",
    "svm = SVC()\n",
    "svm.fit(X_train, y_train)\n",
    "y_pred_svm = svm.predict(X_test)\n",
    "\n",
    "# Performance Analysis\n",
    "print(\"KNN Classification Report:\")\n",
    "print(classification_report(y_test, y_pred_knn))\n",
    "print(\"KNN Accuracy:\", accuracy_score(y_test, y_pred_knn))\n",
    "\n",
    "print(\"SVM Classification Report:\")\n",
    "print(classification_report(y_test, y_pred_svm))\n",
    "print(\"SVM Accuracy:\", accuracy_score(y_test, y_pred_svm))\n"
   ]
  },
  {
   "cell_type": "code",
   "execution_count": null,
   "id": "92403d1f-5932-4bdb-8912-caba1496ca5b",
   "metadata": {},
   "outputs": [],
   "source": []
  },
  {
   "cell_type": "code",
   "execution_count": null,
   "id": "637e4310-c301-47ed-982e-c4b93956bed6",
   "metadata": {},
   "outputs": [],
   "source": []
  }
 ],
 "metadata": {
  "kernelspec": {
   "display_name": "Python 3 (ipykernel)",
   "language": "python",
   "name": "python3"
  },
  "language_info": {
   "codemirror_mode": {
    "name": "ipython",
    "version": 3
   },
   "file_extension": ".py",
   "mimetype": "text/x-python",
   "name": "python",
   "nbconvert_exporter": "python",
   "pygments_lexer": "ipython3",
   "version": "3.11.3"
  }
 },
 "nbformat": 4,
 "nbformat_minor": 5
}
